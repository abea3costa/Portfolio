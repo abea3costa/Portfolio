{
 "cells": [
  {
   "cell_type": "markdown",
   "id": "b56a59c2-33b7-45bb-a4e3-f30b1309e3f5",
   "metadata": {},
   "source": [
    "### BMI Calculator"
   ]
  },
  {
   "cell_type": "markdown",
   "id": "ed3b913c-9e7d-4db2-a86b-ce49273bb1dc",
   "metadata": {},
   "source": [
    "https://www.nhs.uk/health-assessment-tools/calculate-your-body-mass-index/calculate-bmi-for-adults\n",
    "\n",
    "The BMI is calculated by dividing an adult's weight in kilograms by their height in metres squared.\n"
   ]
  },
  {
   "cell_type": "code",
   "execution_count": null,
   "id": "cc38b753-bd97-498e-974a-98440e5e746c",
   "metadata": {},
   "outputs": [],
   "source": [
    "# formula - BMI=(weight/((height*0.01)**2))"
   ]
  },
  {
   "cell_type": "code",
   "execution_count": null,
   "id": "5e18b9bb-c7f3-4656-9800-bac9a1ad7174",
   "metadata": {},
   "outputs": [],
   "source": [
    "name = input(\"Enter your name: \")\n",
    "\n",
    "weight = int(input(\"Enter your weight in kg: \"))\n",
    "\n",
    "height = int(input(\"Enter your height in cm: \"))\n",
    "\n",
    "BMI = round((weight / ((height * 0.01) ** 2)),1)\n",
    "\n",
    "print(f\"Your BMI is: {BMI}\")\n",
    "\n",
    "if 0< BMI <= 18.4:\n",
    "    print(f\"{name}, you are underweight.\")\n",
    "elif 18.5 <= BMI < 25:\n",
    "    print(f\"{name}, you are at a healthy weight.\")\n",
    "elif 25 <= BMI < 30:\n",
    "    print(f\"{name}, you are overweight.\")\n",
    "elif 30 <= BMI < 40:\n",
    "    print(f\"{name}, you are obese.\")\n",
    "elif BMI >= 40:\n",
    "    print(f\"{name}, you are severely obese.\")\n",
    "else:\n",
    "    print(\"Error. Try again.\")    \n"
   ]
  },
  {
   "cell_type": "code",
   "execution_count": null,
   "id": "b7253b39-3d71-4b14-9678-0fc030e0d0ad",
   "metadata": {},
   "outputs": [],
   "source": []
  },
  {
   "cell_type": "code",
   "execution_count": null,
   "id": "d218120a-19b3-4bf1-b750-d233e9dfe580",
   "metadata": {},
   "outputs": [],
   "source": []
  },
  {
   "cell_type": "code",
   "execution_count": null,
   "id": "4186d655-7bac-49cc-a04d-34481439f039",
   "metadata": {},
   "outputs": [],
   "source": []
  }
 ],
 "metadata": {
  "kernelspec": {
   "display_name": "Python [conda env:base] *",
   "language": "python",
   "name": "conda-base-py"
  },
  "language_info": {
   "codemirror_mode": {
    "name": "ipython",
    "version": 3
   },
   "file_extension": ".py",
   "mimetype": "text/x-python",
   "name": "python",
   "nbconvert_exporter": "python",
   "pygments_lexer": "ipython3",
   "version": "3.12.7"
  }
 },
 "nbformat": 4,
 "nbformat_minor": 5
}
